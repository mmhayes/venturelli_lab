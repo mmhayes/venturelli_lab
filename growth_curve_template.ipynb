{
 "cells": [
  {
   "cell_type": "code",
   "execution_count": null,
   "metadata": {},
   "outputs": [],
   "source": [
    "import sys\n",
    "import os\n",
    "import pandas as pd\n",
    "import scipy as sp\n",
    "import datetime\n",
    "import xml.etree.ElementTree as ET\n",
    "import seaborn as sns\n",
    "from matplotlib import pyplot as plt\n",
    "import numpy as np\n",
    "#from plateTools import*\n",
    "import os\n",
    "import pandas as pd\n",
    "import scipy.io\n",
    "import datetime\n",
    "import xml.etree.ElementTree as ET\n",
    "import random\n",
    "from scipy.integrate import odeint\n",
    "from scipy.optimize import minimize"
   ]
  },
  {
   "cell_type": "code",
   "execution_count": null,
   "metadata": {},
   "outputs": [],
   "source": [
    "## set working directory\n",
    "\n",
    "os.chdir(\"\\\\Users\\\\madel\\\\Documents\\\\Grad School\\\\Lab\\\\MCFA Project\\\\Monospecies Growth Curves\\\\   \")\n",
    "os.getcwd()"
   ]
  },
  {
   "cell_type": "code",
   "execution_count": null,
   "metadata": {},
   "outputs": [],
   "source": [
    "## import data\n",
    "## use Plate Layout Template\n",
    "\n",
    "gcdf = pd.read_csv(\"\\\\Users\\\\madel\\\\Documents\\\\Grad School\\\\Lab\\\\MCFA Project\\\\Monospecies Growth Curves\\\\   \\\\   _Plate Layout.csv\")\n",
    "gcdf.head()\n",
    "\n",
    "## if the data needs to be cleaned, clean into workingdf\n",
    "\n",
    "workingdf = gcdf \n",
    "workingdf.head()"
   ]
  },
  {
   "cell_type": "code",
   "execution_count": 1,
   "metadata": {},
   "outputs": [],
   "source": [
    "specieslist = [] # make a list of your species\n",
    "medialist = [] # make a list of medias used\n",
    "cyclecount = list(range(96)) # number of cycles, default is 96 (every 30min over 48 hours)\n",
    "timepoints = ['0','12','24','36','48'] # for x axis ticks\n",
    "\n",
    "# create a figure for every species in your list\n",
    "for species in specieslist:\n",
    "    fig, ax = plt.subplots(nrows=1, ncols=1, # can change if plotting each media separately\n",
    "                            sharex = True, \n",
    "                            sharey = True, \n",
    "                            figsize=(10,10),\n",
    "                            )\n",
    "    fig.suptitle((species + ' Growth'), fontsize = 14) # create figure level title\n",
    "\n",
    "# plotting multiple media types on the same graph\n",
    "    for media in medialist:\n",
    "        eachdf = workingdf[(workingdf['Species']==species)&(workingdf['Media']==media)] # create df of all data for a species in a media type\n",
    "        indices = list(eachdf.index.values) # creates a list of the df index\n",
    "        measurements = []\n",
    "        tps = []\n",
    "        dates = [] # if plotting data from more than one day\n",
    "        for cycle in cyclecount: # for every kinetic cycle measurement\n",
    "            for i in indices: # go through the whole df\n",
    "                measurements.append(eachdf.at[i, str(cycle)]) # append the measured OD\n",
    "                tps.append(cycle) # append the cycle\n",
    "                #dates.append(eachdf.at[i, 'Date']) # append the date # these three items will appear at the same [] in their lists \n",
    "# subtract minimum measurement\n",
    "        if len(measurements) > 0: # measurements won't be populated for all media types, this skips empty lists\n",
    "            min_od = min(measurements) # find the minimum value\n",
    "        measurements_minus_min = [] # create a new list\n",
    "        for k in range(len(measurements)):\n",
    "            measurements_minus_min[k] = measurements[k] - (min_od-0.0001)\n",
    "# plotting\n",
    "        sns.scatterplot(x = tps,\n",
    "                        y = measurements_minus_min,\n",
    "                        #style = dates,\n",
    "                        label = media,\n",
    "                        #ax = ax[1], # specify axes if plotting each media separately, will have to change ax count with for loops outside the media loop\n",
    "                       )\n",
    "    plt.ylabel('OD600')\n",
    "    plt.xlabel('Time(hr)')\n",
    "    plt.xticks((0, 24, 48, 72, 96),(timepoints))\n",
    "    plt.legend()\n",
    "# save and close\n",
    "    #plt.savefig(species + '', bbox='tight')\n",
    "    plt.show()\n",
    "    plt.close()"
   ]
  }
 ],
 "metadata": {
  "kernelspec": {
   "display_name": "Python 3",
   "language": "python",
   "name": "python3"
  },
  "language_info": {
   "codemirror_mode": {
    "name": "ipython",
    "version": 3
   },
   "file_extension": ".py",
   "mimetype": "text/x-python",
   "name": "python",
   "nbconvert_exporter": "python",
   "pygments_lexer": "ipython3",
   "version": "3.7.4"
  }
 },
 "nbformat": 4,
 "nbformat_minor": 4
}
